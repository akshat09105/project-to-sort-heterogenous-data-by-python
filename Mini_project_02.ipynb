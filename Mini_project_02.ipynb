{
  "nbformat": 4,
  "nbformat_minor": 0,
  "metadata": {
    "colab": {
      "provenance": [],
      "authorship_tag": "ABX9TyMF/UPpjiQ4aMoY3Olye1Wk",
      "include_colab_link": true
    },
    "kernelspec": {
      "name": "python3",
      "display_name": "Python 3"
    },
    "language_info": {
      "name": "python"
    }
  },
  "cells": [
    {
      "cell_type": "markdown",
      "metadata": {
        "id": "view-in-github",
        "colab_type": "text"
      },
      "source": [
        "<a href=\"https://colab.research.google.com/github/akshat09105/project-to-sort-heterogenous-data-by-python/blob/main/Mini_project_02.ipynb\" target=\"_parent\"><img src=\"https://colab.research.google.com/assets/colab-badge.svg\" alt=\"Open In Colab\"/></a>"
      ]
    },
    {
      "cell_type": "markdown",
      "source": [
        "Write a python program to sort the list of heterogeneous data.\n",
        "e.g.\n",
        "L = [\"Ram\", 1, \"Shyam\", 2, \"Aman\", 3]\n",
        "print(L)\n",
        "L.sort()\n",
        "print(L)\n",
        "# Above code gives error. Correct it."
      ],
      "metadata": {
        "id": "YirCuDY5iL3B"
      }
    },
    {
      "cell_type": "code",
      "source": [
        " L = [\"Ram\", 1, \"Shyam\", 2, \"Aman\", 3]"
      ],
      "metadata": {
        "id": "UtFc281uiNxd"
      },
      "execution_count": 6,
      "outputs": []
    },
    {
      "cell_type": "code",
      "source": [
        "l1=[i for i in L if isinstance(i,str)]\n",
        "l2=[i for i in L if isinstance(i,int)]"
      ],
      "metadata": {
        "id": "bULigbhoiSa0"
      },
      "execution_count": 8,
      "outputs": []
    },
    {
      "cell_type": "code",
      "source": [
        "L3=l1+l2"
      ],
      "metadata": {
        "id": "GCyNjA29lGgW"
      },
      "execution_count": 9,
      "outputs": []
    },
    {
      "cell_type": "code",
      "source": [
        "print(L3)"
      ],
      "metadata": {
        "colab": {
          "base_uri": "https://localhost:8080/"
        },
        "id": "n-J6mLr2lKvT",
        "outputId": "66cf4c26-a701-4d95-ed12-1356ab35cbc9"
      },
      "execution_count": 11,
      "outputs": [
        {
          "output_type": "stream",
          "name": "stdout",
          "text": [
            "['Ram', 'Shyam', 'Aman', 1, 2, 3]\n"
          ]
        }
      ]
    }
  ]
}